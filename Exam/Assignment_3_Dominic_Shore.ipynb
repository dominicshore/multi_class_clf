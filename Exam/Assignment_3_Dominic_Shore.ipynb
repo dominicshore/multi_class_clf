{
 "cells": [
  {
   "cell_type": "code",
   "execution_count": null,
   "metadata": {},
   "outputs": [],
   "source": [
    "import warnings\n",
    "import pandas as pd\n",
    "import numpy as np\n",
    "import tensorflow as tf\n",
    "from tensorflow import keras\n",
    "from sklearn.preprocessing import OrdinalEncoder, OneHotEncoder, MinMaxScaler\n",
    "from sklearn.pipeline import Pipeline\n",
    "from sklearn.compose import ColumnTransformer\n",
    "from sklearn.model_selection import train_test_split\n",
    "from sklearn.metrics import mean_squared_error, r2_score\n",
    "import seaborn as sns\n",
    "import matplotlib.pyplot as plt\n",
    "from random import randrange\n",
    "sns.set(rc={'figure.figsize':(15,8)})"
   ]
  },
  {
   "cell_type": "code",
   "execution_count": null,
   "metadata": {},
   "outputs": [],
   "source": [
    "df = pd.read_csv(\"./../assignment_3/data/abalone.data\", names=[\"sex\", \"length\", \"diameter\", \"height\", \"whole_weight\", \"shucked_weight\", \"viscera_weight\", \"shell_weight\", \"rings\"])"
   ]
  },
  {
   "cell_type": "code",
   "execution_count": null,
   "metadata": {},
   "outputs": [],
   "source": [
    "raw_abs = df.copy()\n",
    "raw_abs"
   ]
  },
  {
   "cell_type": "code",
   "execution_count": null,
   "metadata": {},
   "outputs": [],
   "source": [
    "corel_plot_data = df[['rings', 'height']].copy()\n",
    "melted_corel_plot_data = corel_plot_data.melt('rings', var_name='size_measurement', value_name='Height in cm')\n",
    "corel_plot = sns.catplot(x = 'rings', hue = 'size_measurement', y = 'Height in cm', data = melted_corel_plot_data).set(title = \"Measure of shell height Abalone size vs number of rings\")\n",
    "\n",
    "corel_plot"
   ]
  },
  {
   "cell_type": "code",
   "execution_count": null,
   "metadata": {},
   "outputs": [],
   "source": [
    "melted_corel_plot_data = corel_plot_data.melt('rings', var_name='size_measurement', value_name='Measurement in cm')\n",
    "corel_plot = sns.catplot(x = 'rings', hue = 'size_measurement', y = 'Measurement in cm', data = melted_corel_plot_data).set(title = \"Measures of shell Abalone size vs number of rings\")"
   ]
  },
  {
   "cell_type": "code",
   "execution_count": null,
   "metadata": {},
   "outputs": [],
   "source": [
    "raw_abs.loc[raw_abs['rings'].between(0, 7,inclusive='both'), 'ring_class'] = int(1)\n",
    "raw_abs.loc[raw_abs['rings'].between(8, 10,inclusive='both'), 'ring_class'] = int(2)\n",
    "raw_abs.loc[raw_abs['rings'].between(11, 15,inclusive='both'), 'ring_class'] = int(3)\n",
    "raw_abs.loc[raw_abs['rings'] > 15, 'ring_class'] = int(4)\n",
    "raw_abs['ring_class'] = raw_abs['ring_class'].astype(int)"
   ]
  },
  {
   "cell_type": "code",
   "execution_count": null,
   "metadata": {},
   "outputs": [],
   "source": [
    "raw_abs.drop(columns = \"rings\", axis=1, inplace=True)\n"
   ]
  },
  {
   "cell_type": "code",
   "execution_count": null,
   "metadata": {},
   "outputs": [],
   "source": [
    "raw_abs = raw_abs[(raw_abs['height']<0.4) & (raw_abs['height']>0.01)]"
   ]
  },
  {
   "cell_type": "markdown",
   "metadata": {},
   "source": [
    "# Visualisations"
   ]
  },
  {
   "cell_type": "markdown",
   "metadata": {},
   "source": [
    "### Distribtion of ring class"
   ]
  },
  {
   "cell_type": "code",
   "execution_count": null,
   "metadata": {},
   "outputs": [],
   "source": [
    "raw_abs.head()"
   ]
  },
  {
   "cell_type": "code",
   "execution_count": null,
   "metadata": {},
   "outputs": [],
   "source": [
    "raw_abs['ring_class'].value_counts().plot(kind='barh', figsize=(8,6))\n",
    "plt.ylabel(\"Ring-class\")\n",
    "plt.xlabel(\"Class count\")\n",
    "plt.grid(False)\n",
    "plt.title(\"Abalone ring-class count\", y=1.02, fontsize = 18);"
   ]
  },
  {
   "cell_type": "code",
   "execution_count": null,
   "metadata": {},
   "outputs": [],
   "source": [
    "raw_abs.hist()"
   ]
  },
  {
   "cell_type": "code",
   "execution_count": null,
   "metadata": {},
   "outputs": [],
   "source": [
    "heatmap = sns.heatmap(raw_abs.corr(), annot=True, cbar=False, vmin=-1., vmax=1., cmap=sns.cm.rocket)\n",
    "heatmap.set_title('Correlation Heatmap', fontdict={'fontsize':18}, pad=12)"
   ]
  },
  {
   "cell_type": "markdown",
   "metadata": {},
   "source": [
    "# Building the model"
   ]
  },
  {
   "cell_type": "code",
   "execution_count": null,
   "metadata": {},
   "outputs": [],
   "source": [
    "num_pipeline = Pipeline([\n",
    "    ('Nomalisation', MinMaxScaler()),\n",
    "    ])\n",
    "\n",
    "sex_pipeline = Pipeline([\n",
    "    ('ord_encoder', OrdinalEncoder(categories=[['M', 'F', 'I']]))\n",
    "])\n",
    "\n",
    "ringClass_pipeline = Pipeline([\n",
    "    ('ringClass_1Hot', OneHotEncoder())\n",
    "])\n",
    "\n",
    "num_arribs = list(raw_abs.drop(columns=[\"sex\", \"ring_class\"]))\n",
    "\n",
    "full_pipeline = ColumnTransformer([\n",
    "    (\"num\", num_pipeline, num_arribs),\n",
    "    (\"sex\", sex_pipeline, ['sex']),\n",
    "    (\"ringClass_1Hot\", ringClass_pipeline, ['ring_class'])\n",
    "])\n",
    "\n"
   ]
  },
  {
   "cell_type": "code",
   "execution_count": null,
   "metadata": {},
   "outputs": [],
   "source": [
    "abs_prepared = pd.DataFrame(full_pipeline.fit_transform(raw_abs))\n",
    "abs_prepared"
   ]
  },
  {
   "cell_type": "code",
   "execution_count": null,
   "metadata": {},
   "outputs": [],
   "source": [
    "X = abs_prepared.iloc[:,:-4]\n",
    "y = abs_prepared.iloc[:,-4:]"
   ]
  },
  {
   "cell_type": "code",
   "execution_count": null,
   "metadata": {},
   "outputs": [],
   "source": [
    "# Single layer\n",
    "       \n",
    "X_train, X_test, y_train, y_test = train_test_split(X, y, train_size = 0.4, random_state=42)\n",
    "\n",
    "model = keras.models.Sequential([\n",
    "keras.layers.Dense(12, input_shape = (8,), activation = \"relu\"),\n",
    "# keras.layers.Dense(32, activation = \"relu\"),\n",
    "keras.layers.Dense(4, activation = \"softmax\")\n",
    "])\n",
    "\n",
    "model.compile(loss = 'categorical_crossentropy',\n",
    "        optimizer = keras.optimizers.SGD(learning_rate=0.01),\n",
    "        metrics = ['accuracy']\n",
    "        )\n",
    "\n",
    "history = model.fit(X_train, y_train, epochs=500, verbose=0)\n",
    "\n",
    "mod_eval = model.evaluate(X_test, y_test)\n"
   ]
  },
  {
   "cell_type": "code",
   "execution_count": 30,
   "metadata": {},
   "outputs": [
    {
     "name": "stdout",
     "output_type": "stream",
     "text": [
      "79/79 [==============================] - 0s 746us/step\n"
     ]
    }
   ],
   "source": [
    "y_pred = model.predict(X_test)"
   ]
  },
  {
   "cell_type": "code",
   "execution_count": 41,
   "metadata": {},
   "outputs": [
    {
     "data": {
      "text/plain": [
       "array([[0.35367462, 0.51822513, 0.10436802, 0.02373214],\n",
       "       [0.00899165, 0.27155596, 0.5123134 , 0.20713899],\n",
       "       [0.06942134, 0.45943975, 0.40140343, 0.06973547],\n",
       "       ...,\n",
       "       [0.15255277, 0.69768006, 0.13052702, 0.01924015],\n",
       "       [0.08374643, 0.73067194, 0.16423613, 0.02134543],\n",
       "       [0.07850537, 0.6113063 , 0.253427  , 0.05676131]], dtype=float32)"
      ]
     },
     "execution_count": 41,
     "metadata": {},
     "output_type": "execute_result"
    }
   ],
   "source": [
    "y_pred"
   ]
  },
  {
   "cell_type": "code",
   "execution_count": 29,
   "metadata": {},
   "outputs": [
    {
     "data": {
      "text/html": [
       "<div>\n",
       "<style scoped>\n",
       "    .dataframe tbody tr th:only-of-type {\n",
       "        vertical-align: middle;\n",
       "    }\n",
       "\n",
       "    .dataframe tbody tr th {\n",
       "        vertical-align: top;\n",
       "    }\n",
       "\n",
       "    .dataframe thead th {\n",
       "        text-align: right;\n",
       "    }\n",
       "</style>\n",
       "<table border=\"1\" class=\"dataframe\">\n",
       "  <thead>\n",
       "    <tr style=\"text-align: right;\">\n",
       "      <th></th>\n",
       "      <th>8</th>\n",
       "      <th>9</th>\n",
       "      <th>10</th>\n",
       "      <th>11</th>\n",
       "    </tr>\n",
       "  </thead>\n",
       "  <tbody>\n",
       "    <tr>\n",
       "      <th>1451</th>\n",
       "      <td>1.0</td>\n",
       "      <td>0.0</td>\n",
       "      <td>0.0</td>\n",
       "      <td>0.0</td>\n",
       "    </tr>\n",
       "    <tr>\n",
       "      <th>2258</th>\n",
       "      <td>0.0</td>\n",
       "      <td>0.0</td>\n",
       "      <td>0.0</td>\n",
       "      <td>1.0</td>\n",
       "    </tr>\n",
       "    <tr>\n",
       "      <th>731</th>\n",
       "      <td>0.0</td>\n",
       "      <td>0.0</td>\n",
       "      <td>1.0</td>\n",
       "      <td>0.0</td>\n",
       "    </tr>\n",
       "    <tr>\n",
       "      <th>544</th>\n",
       "      <td>0.0</td>\n",
       "      <td>0.0</td>\n",
       "      <td>1.0</td>\n",
       "      <td>0.0</td>\n",
       "    </tr>\n",
       "    <tr>\n",
       "      <th>2457</th>\n",
       "      <td>0.0</td>\n",
       "      <td>0.0</td>\n",
       "      <td>1.0</td>\n",
       "      <td>0.0</td>\n",
       "    </tr>\n",
       "    <tr>\n",
       "      <th>...</th>\n",
       "      <td>...</td>\n",
       "      <td>...</td>\n",
       "      <td>...</td>\n",
       "      <td>...</td>\n",
       "    </tr>\n",
       "    <tr>\n",
       "      <th>1389</th>\n",
       "      <td>0.0</td>\n",
       "      <td>1.0</td>\n",
       "      <td>0.0</td>\n",
       "      <td>0.0</td>\n",
       "    </tr>\n",
       "    <tr>\n",
       "      <th>3471</th>\n",
       "      <td>1.0</td>\n",
       "      <td>0.0</td>\n",
       "      <td>0.0</td>\n",
       "      <td>0.0</td>\n",
       "    </tr>\n",
       "    <tr>\n",
       "      <th>2648</th>\n",
       "      <td>0.0</td>\n",
       "      <td>1.0</td>\n",
       "      <td>0.0</td>\n",
       "      <td>0.0</td>\n",
       "    </tr>\n",
       "    <tr>\n",
       "      <th>1607</th>\n",
       "      <td>0.0</td>\n",
       "      <td>1.0</td>\n",
       "      <td>0.0</td>\n",
       "      <td>0.0</td>\n",
       "    </tr>\n",
       "    <tr>\n",
       "      <th>1594</th>\n",
       "      <td>0.0</td>\n",
       "      <td>1.0</td>\n",
       "      <td>0.0</td>\n",
       "      <td>0.0</td>\n",
       "    </tr>\n",
       "  </tbody>\n",
       "</table>\n",
       "<p>2504 rows × 4 columns</p>\n",
       "</div>"
      ],
      "text/plain": [
       "       8    9    10   11\n",
       "1451  1.0  0.0  0.0  0.0\n",
       "2258  0.0  0.0  0.0  1.0\n",
       "731   0.0  0.0  1.0  0.0\n",
       "544   0.0  0.0  1.0  0.0\n",
       "2457  0.0  0.0  1.0  0.0\n",
       "...   ...  ...  ...  ...\n",
       "1389  0.0  1.0  0.0  0.0\n",
       "3471  1.0  0.0  0.0  0.0\n",
       "2648  0.0  1.0  0.0  0.0\n",
       "1607  0.0  1.0  0.0  0.0\n",
       "1594  0.0  1.0  0.0  0.0\n",
       "\n",
       "[2504 rows x 4 columns]"
      ]
     },
     "execution_count": 29,
     "metadata": {},
     "output_type": "execute_result"
    }
   ],
   "source": [
    "y_test"
   ]
  }
 ],
 "metadata": {
  "kernelspec": {
   "display_name": "Python 3.10.7 ('.venv': venv)",
   "language": "python",
   "name": "python3"
  },
  "language_info": {
   "codemirror_mode": {
    "name": "ipython",
    "version": 3
   },
   "file_extension": ".py",
   "mimetype": "text/x-python",
   "name": "python",
   "nbconvert_exporter": "python",
   "pygments_lexer": "ipython3",
   "version": "3.10.7"
  },
  "orig_nbformat": 4,
  "vscode": {
   "interpreter": {
    "hash": "96f48c9e96326d159497092596a842df84442ffbf742d0c9b5922831fba25b6e"
   }
  }
 },
 "nbformat": 4,
 "nbformat_minor": 2
}
