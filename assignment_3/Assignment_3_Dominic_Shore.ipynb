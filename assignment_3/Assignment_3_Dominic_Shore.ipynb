{
 "cells": [
  {
   "cell_type": "code",
   "execution_count": null,
   "metadata": {},
   "outputs": [],
   "source": [
    "import warnings\n",
    "import pandas as pd\n",
    "import numpy as np\n",
    "import tensorflow as tf\n",
    "from tensorflow import keras\n",
    "from sklearn.preprocessing import OrdinalEncoder, OneHotEncoder, MinMaxScaler\n",
    "from sklearn.pipeline import Pipeline\n",
    "from sklearn.compose import ColumnTransformer\n",
    "from sklearn.model_selection import train_test_split\n",
    "from sklearn.metrics import mean_squared_error, r2_score\n",
    "import seaborn as sns\n",
    "import matplotlib.pyplot as plt\n",
    "from random import randrange\n",
    "sns.set(rc={'figure.figsize':(15,8)})"
   ]
  },
  {
   "cell_type": "code",
   "execution_count": null,
   "metadata": {},
   "outputs": [],
   "source": [
    "df = pd.read_csv(\"./data/abalone.data\", names=[\"sex\", \"length\", \"diameter\", \"height\", \"whole_weight\", \"shucked_weight\", \"viscera_weight\", \"shell_weight\", \"rings\"])"
   ]
  },
  {
   "cell_type": "code",
   "execution_count": null,
   "metadata": {},
   "outputs": [],
   "source": [
    "raw_abs = df.copy()\n",
    "raw_abs"
   ]
  },
  {
   "cell_type": "code",
   "execution_count": null,
   "metadata": {},
   "outputs": [],
   "source": [
    "raw_abs.loc[raw_abs['rings'].between(0, 7,inclusive='both'), 'ring_class'] = int(1)\n",
    "raw_abs.loc[raw_abs['rings'].between(8, 10,inclusive='both'), 'ring_class'] = int(2)\n",
    "raw_abs.loc[raw_abs['rings'].between(11, 15,inclusive='both'), 'ring_class'] = int(3)\n",
    "raw_abs.loc[raw_abs['rings'] > 15, 'ring_class'] = int(4)\n",
    "raw_abs['ring_class'] = raw_abs['ring_class'].astype(int)"
   ]
  },
  {
   "cell_type": "code",
   "execution_count": null,
   "metadata": {},
   "outputs": [],
   "source": [
    "raw_abs.drop(columns = \"rings\", axis=1, inplace=True)\n"
   ]
  },
  {
   "cell_type": "code",
   "execution_count": null,
   "metadata": {},
   "outputs": [],
   "source": [
    "num_pipeline = Pipeline([\n",
    "    ('Nomalisation', MinMaxScaler()),\n",
    "    ])\n",
    "\n",
    "sex_pipeline = Pipeline([\n",
    "    ('ord_encoder', OrdinalEncoder(categories=[['M', 'F', 'I']]))\n",
    "])\n",
    "\n",
    "ringClass_pipeline = Pipeline([\n",
    "    ('ringClass_1Hot', OneHotEncoder())\n",
    "])\n",
    "\n",
    "num_arribs = list(raw_abs.drop(columns=[\"sex\", \"ring_class\"]))\n",
    "\n",
    "full_pipeline = ColumnTransformer([\n",
    "    (\"num\", num_pipeline, num_arribs),\n",
    "    (\"sex\", sex_pipeline, ['sex']),\n",
    "    (\"ringClass_1Hot\", ringClass_pipeline, ['ring_class'])\n",
    "])\n",
    "\n"
   ]
  },
  {
   "cell_type": "code",
   "execution_count": null,
   "metadata": {},
   "outputs": [],
   "source": [
    "abs_prepared = pd.DataFrame(full_pipeline.fit_transform(raw_abs))\n",
    "abs_prepared"
   ]
  },
  {
   "cell_type": "code",
   "execution_count": null,
   "metadata": {},
   "outputs": [],
   "source": [
    "X = abs_prepared.iloc[:,:-4]\n",
    "y = abs_prepared.iloc[:,-4:]"
   ]
  },
  {
   "cell_type": "code",
   "execution_count": null,
   "metadata": {},
   "outputs": [],
   "source": [
    "X.head()"
   ]
  },
  {
   "cell_type": "code",
   "execution_count": null,
   "metadata": {},
   "outputs": [],
   "source": [
    "y.head()"
   ]
  },
  {
   "cell_type": "code",
   "execution_count": null,
   "metadata": {},
   "outputs": [],
   "source": [
    "X_train, X_test, y_train, y_test = train_test_split(X, y, train_size = 0.4, random_state=42)"
   ]
  },
  {
   "cell_type": "code",
   "execution_count": null,
   "metadata": {},
   "outputs": [],
   "source": [
    "# def init_model(hidden_neurons, hidden_layers = 1):\n",
    "#     if hidden_layers == 1:\n",
    "#         model = keras.models.Sequential([\n",
    "#             keras.layers.InputLayer(input_dim = 7),\n",
    "#             keras.layers.Dense(hidden_neurons, activation = \"relu\"),\n",
    "#             keras.layers.Dense(4, activation = \"softmax\")\n",
    "#         ])\n",
    "#         return(model)\n",
    "#     else:\n",
    "#         model = keras.models.Sequential([\n",
    "#             keras.layers.InputLayer(input_dim = 7),\n",
    "#             keras.layers.Dense(hidden_neurons, activation = \"relu\"),\n",
    "#             keras.layers.Dense(hidden_neurons, activation = \"relu\"),\n",
    "#             keras.layers.Dense(4, activation = \"softmax\")\n",
    "#         ])\n",
    "#         return(model)"
   ]
  },
  {
   "cell_type": "code",
   "execution_count": null,
   "metadata": {},
   "outputs": [],
   "source": [
    "X_train.shape"
   ]
  },
  {
   "cell_type": "code",
   "execution_count": 50,
   "metadata": {},
   "outputs": [],
   "source": [
    "def run_model(hidden_neurons, lr=0.01):\n",
    "    model = keras.models.Sequential([\n",
    "    keras.layers.Dense(hidden_neurons, input_shape = (8,), activation = \"relu\"),\n",
    "    # keras.layers.Dense(32, activation = \"relu\"),\n",
    "    keras.layers.Dense(4, activation = \"softmax\")\n",
    "])\n",
    "\n",
    "    model.compile(loss = 'categorical_crossentropy',\n",
    "              optimizer = keras.optimizers.SGD(learning_rate=lr),\n",
    "              metrics = ['accuracy']\n",
    "              )\n",
    "\n",
    "    history = model.fit(X_train, y_train, epochs=50, batch_size=5, validation_split=0.1, verbose=0)\n",
    "\n",
    "    pd.DataFrame(history.history).plot(figsize=(8,5))\n",
    "    plt.grid(True)\n",
    "    plt.gca().set_ylim(0,1)\n",
    "    plt.savefig(\".\\\\images\\\\1_layer_\" + str(hidden_neurons) +\"_hidden_nur.png\", bbox_inches='tight')\n",
    "    plt.show()\n"
   ]
  },
  {
   "cell_type": "code",
   "execution_count": 51,
   "metadata": {},
   "outputs": [
    {
     "name": "stderr",
     "output_type": "stream",
     "text": [
      "c:\\Users\\Dominic\\Documents\\UNSW\\2022H5 Data mining and Machine Learning\\.venv\\lib\\site-packages\\keras\\optimizers\\optimizer_v2\\gradient_descent.py:111: UserWarning: The `lr` argument is deprecated, use `learning_rate` instead.\n",
      "  super().__init__(name, **kwargs)\n"
     ]
    },
    {
     "data": {
      "image/png": "[encoded data removed]",
      "text/plain": [
       "<Figure size 800x500 with 1 Axes>"
      ]
     },
     "metadata": {},
     "output_type": "display_data"
    }
   ],
   "source": [
    "run_model(hidden_neurons=20, lr = 0.001)"
   ]
  },
  {
   "cell_type": "code",
   "execution_count": null,
   "metadata": {},
   "outputs": [],
   "source": [
    "list(map(lambda x: run_model(x), [5,10,15,20]))"
   ]
  },
  {
   "cell_type": "code",
   "execution_count": null,
   "metadata": {},
   "outputs": [],
   "source": []
  }
 ],
 "metadata": {
  "kernelspec": {
   "display_name": "Python 3.10.7 ('.venv': venv)",
   "language": "python",
   "name": "python3"
  },
  "language_info": {
   "codemirror_mode": {
    "name": "ipython",
    "version": 3
   },
   "file_extension": ".py",
   "mimetype": "text/x-python",
   "name": "python",
   "nbconvert_exporter": "python",
   "pygments_lexer": "ipython3",
   "version": "3.10.7"
  },
  "orig_nbformat": 4,
  "vscode": {
   "interpreter": {
    "hash": "96f48c9e96326d159497092596a842df84442ffbf742d0c9b5922831fba25b6e"
   }
  }
 },
 "nbformat": 4,
 "nbformat_minor": 2
}
